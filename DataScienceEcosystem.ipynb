{
 "cells": [
  {
   "cell_type": "markdown",
   "id": "4e9a8e6f-61d4-4602-a67e-9a19d8b05603",
   "metadata": {},
   "source": [
    "# Data Science Tools and Ecosystem\n"
   ]
  },
  {
   "cell_type": "markdown",
   "id": "603045ba-0bd8-4cdb-8ba4-b222ced27b6b",
   "metadata": {},
   "source": [
    "## Author\n",
    "Jiaming Guo\n"
   ]
  },
  {
   "cell_type": "markdown",
   "id": "bee07b74-5c3e-4ccf-9e41-7e7b9170db3b",
   "metadata": {},
   "source": [
    "In this notebook, Data Science Tools and Ecosystem are summarized"
   ]
  },
  {
   "cell_type": "markdown",
   "id": "4cfb3d0a-87c2-4b9e-9f27-f2f1868242a0",
   "metadata": {},
   "source": [
    "**Objectives:**\n",
    "- List popular languages for Data Science\n",
    "- List popular libraries for Data Science\n",
    "- List popular Data Science Tools"
   ]
  },
  {
   "cell_type": "markdown",
   "id": "aef81a34-30d1-4131-b941-44d127dd9e9b",
   "metadata": {},
   "source": [
    "Some of the popular languages that Data Scientists use are:\n",
    "1. Python\n",
    "2. R\n",
    "3. SQL\n"
   ]
  },
  {
   "cell_type": "markdown",
   "id": "d3bd6e2d-9633-4509-87ab-bd2850681799",
   "metadata": {},
   "source": [
    "Some of the commonly used libraries used by Data Scientists include:\n",
    "1. pandas\n",
    "2. ggplot\n",
    "3. numpy\n"
   ]
  },
  {
   "cell_type": "markdown",
   "id": "e4378faf-8d12-40a1-b66f-af692890abbb",
   "metadata": {},
   "source": [
    "|Data Science Tools|\n",
    "|------------------|\n",
    "|Python|\n",
    "|SQL|\n",
    "|R|"
   ]
  },
  {
   "cell_type": "markdown",
   "id": "379689cf-4f06-4bf5-b151-9c7d470f5495",
   "metadata": {},
   "source": [
    "### Below are a few examples of evaluating arithmetic expressions in Python"
   ]
  },
  {
   "cell_type": "code",
   "execution_count": 4,
   "id": "c73bf3f8-232e-4b73-a111-1e7ab6ea309a",
   "metadata": {},
   "outputs": [
    {
     "data": {
      "text/plain": [
       "17"
      ]
     },
     "execution_count": 4,
     "metadata": {},
     "output_type": "execute_result"
    }
   ],
   "source": [
    "(3*4)+5 #This a simple arithmetic expression to mutiply then add integers"
   ]
  },
  {
   "cell_type": "code",
   "execution_count": 5,
   "id": "cb40ed8d-d26e-499c-95a7-0002c65d1c4f",
   "metadata": {},
   "outputs": [
    {
     "data": {
      "text/plain": [
       "33.333333333333336"
      ]
     },
     "execution_count": 5,
     "metadata": {},
     "output_type": "execute_result"
    }
   ],
   "source": [
    "200/6 #This will convert 200 minutes to hours by diving by 60"
   ]
  },
  {
   "cell_type": "code",
   "execution_count": null,
   "id": "4cbd8243-456b-410f-a4ae-c1e46b228601",
   "metadata": {},
   "outputs": [],
   "source": []
  }
 ],
 "metadata": {
  "kernelspec": {
   "display_name": "Python 3 (ipykernel)",
   "language": "python",
   "name": "python3"
  },
  "language_info": {
   "codemirror_mode": {
    "name": "ipython",
    "version": 3
   },
   "file_extension": ".py",
   "mimetype": "text/x-python",
   "name": "python",
   "nbconvert_exporter": "python",
   "pygments_lexer": "ipython3",
   "version": "3.9.13"
  }
 },
 "nbformat": 4,
 "nbformat_minor": 5
}
